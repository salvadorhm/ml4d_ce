{
 "cells": [
  {
   "cell_type": "markdown",
   "metadata": {},
   "source": [
    "# Libraries\n"
   ]
  },
  {
   "cell_type": "code",
   "execution_count": null,
   "metadata": {},
   "outputs": [],
   "source": [
    "import csv\n",
    "import pandas as pd\n",
    "import numpy as np\n",
    "import matplotlib.pyplot as plt\n",
    "import seaborn as sn\n",
    "import matplotlib.mlab as mlab\n",
    "from matplotlib.pyplot import figure, show\n"
   ]
  },
  {
   "cell_type": "markdown",
   "metadata": {},
   "source": [
    "# Loading Dataframe \n"
   ]
  },
  {
   "cell_type": "code",
   "execution_count": null,
   "metadata": {},
   "outputs": [],
   "source": [
    "dataframe = pd.read_csv('train.csv')\n"
   ]
  },
  {
   "cell_type": "markdown",
   "metadata": {},
   "source": [
    "# Describe dataframe\n"
   ]
  },
  {
   "cell_type": "code",
   "execution_count": null,
   "metadata": {},
   "outputs": [],
   "source": [
    "dataframe.describe()\n"
   ]
  },
  {
   "cell_type": "markdown",
   "metadata": {},
   "source": [
    "# Dataframe\n"
   ]
  },
  {
   "cell_type": "code",
   "execution_count": null,
   "metadata": {},
   "outputs": [],
   "source": [
    "dataframe\n"
   ]
  },
  {
   "cell_type": "markdown",
   "metadata": {},
   "source": [
    "# Describe\n"
   ]
  },
  {
   "cell_type": "code",
   "execution_count": null,
   "metadata": {},
   "outputs": [],
   "source": [
    "dataframe.describe()\n"
   ]
  },
  {
   "cell_type": "markdown",
   "metadata": {},
   "source": [
    "# Countplot\n"
   ]
  },
  {
   "cell_type": "code",
   "execution_count": null,
   "metadata": {},
   "outputs": [],
   "source": [
    "sn.countplot(data=dataframe, y='UCI')\n"
   ]
  },
  {
   "cell_type": "markdown",
   "metadata": {},
   "source": [
    "# Heatmap nulls\n"
   ]
  },
  {
   "cell_type": "code",
   "execution_count": null,
   "metadata": {},
   "outputs": [],
   "source": [
    "sn.heatmap(dataframe.isnull())\n"
   ]
  },
  {
   "cell_type": "markdown",
   "metadata": {},
   "source": [
    "# Countplot\n"
   ]
  },
  {
   "cell_type": "code",
   "execution_count": null,
   "metadata": {},
   "outputs": [],
   "source": [
    "sn.countplot(data=dataframe, y='ENTIDAD_NAC')\n"
   ]
  },
  {
   "cell_type": "markdown",
   "metadata": {},
   "source": [
    "# Countplot\n"
   ]
  },
  {
   "cell_type": "code",
   "execution_count": null,
   "metadata": {},
   "outputs": [],
   "source": [
    "sn.countplot(data=dataframe, y='NACIONALIDAD')\n"
   ]
  },
  {
   "cell_type": "markdown",
   "metadata": {},
   "source": [
    "# Describe\n"
   ]
  },
  {
   "cell_type": "code",
   "execution_count": null,
   "metadata": {},
   "outputs": [],
   "source": [
    "dataframe.describe()\n"
   ]
  },
  {
   "cell_type": "markdown",
   "metadata": {},
   "source": [
    "# Describe\n"
   ]
  },
  {
   "cell_type": "code",
   "execution_count": null,
   "metadata": {},
   "outputs": [],
   "source": [
    "dataframe.describe()\n"
   ]
  },
  {
   "cell_type": "markdown",
   "metadata": {},
   "source": [
    "# Describe\n"
   ]
  },
  {
   "cell_type": "code",
   "execution_count": null,
   "metadata": {},
   "outputs": [],
   "source": [
    "dataframe.describe()\n"
   ]
  },
  {
   "cell_type": "markdown",
   "metadata": {},
   "source": [
    "# Countplot\n"
   ]
  },
  {
   "cell_type": "code",
   "execution_count": null,
   "metadata": {},
   "outputs": [],
   "source": [
    "sn.countplot(data=dataframe, y='FECHA_ACTUALIZACION')\n"
   ]
  },
  {
   "cell_type": "markdown",
   "metadata": {},
   "source": [
    "# Countplot\n"
   ]
  },
  {
   "cell_type": "code",
   "execution_count": null,
   "metadata": {},
   "outputs": [],
   "source": [
    "sn.countplot(data=dataframe, y='FECHA_ACTUALIZACION')\n"
   ]
  },
  {
   "cell_type": "markdown",
   "metadata": {},
   "source": [
    "# Countplot\n"
   ]
  },
  {
   "cell_type": "code",
   "execution_count": null,
   "metadata": {},
   "outputs": [],
   "source": [
    "sn.countplot(data=dataframe, y='FECHA_INGRESO')\n"
   ]
  },
  {
   "cell_type": "markdown",
   "metadata": {},
   "source": [
    "# Countplot\n"
   ]
  },
  {
   "cell_type": "code",
   "execution_count": null,
   "metadata": {},
   "outputs": [],
   "source": [
    "sn.countplot(data=dataframe, y='FECHA_INGRESO')\n"
   ]
  },
  {
   "cell_type": "markdown",
   "metadata": {},
   "source": [
    "# Histogram de EDAD\n"
   ]
  },
  {
   "cell_type": "code",
   "execution_count": null,
   "metadata": {},
   "outputs": [],
   "source": [
    "sn.distplot(dataframe[EDAD])\n"
   ]
  },
  {
   "cell_type": "markdown",
   "metadata": {},
   "source": [
    "# Countplot\n"
   ]
  },
  {
   "cell_type": "code",
   "execution_count": null,
   "metadata": {},
   "outputs": [],
   "source": [
    "sn.countplot(data=dataframe, y='EDAD')\n"
   ]
  },
  {
   "cell_type": "markdown",
   "metadata": {},
   "source": [
    "# Describe 'FECHA_ACTUALIZACION\n"
   ]
  },
  {
   "cell_type": "code",
   "execution_count": null,
   "metadata": {},
   "outputs": [],
   "source": [
    "dataframe['FECHA_ACTUALIZACION'].describe()\n"
   ]
  },
  {
   "cell_type": "markdown",
   "metadata": {},
   "source": [
    "# Countplot\n"
   ]
  },
  {
   "cell_type": "code",
   "execution_count": null,
   "metadata": {},
   "outputs": [],
   "source": [
    "sn.countplot(data=dataframe, y='FECHA_ACTUALIZACION')\n"
   ]
  },
  {
   "cell_type": "markdown",
   "metadata": {},
   "source": [
    "# Heatmap nulls\n"
   ]
  },
  {
   "cell_type": "code",
   "execution_count": null,
   "metadata": {},
   "outputs": [],
   "source": [
    "sn.heatmap(dataframe.isnull())\n"
   ]
  },
  {
   "cell_type": "markdown",
   "metadata": {},
   "source": [
    "# Heatmap corr\n"
   ]
  },
  {
   "cell_type": "code",
   "execution_count": null,
   "metadata": {},
   "outputs": [],
   "source": [
    "correlation = dataframe.corr()\n",
    "sn.heatmap(correlation,annot=True)\n"
   ]
  },
  {
   "cell_type": "markdown",
   "metadata": {},
   "source": [
    "# Heatmap nulls\n"
   ]
  },
  {
   "cell_type": "code",
   "execution_count": null,
   "metadata": {},
   "outputs": [],
   "source": [
    "sn.heatmap(dataframe.isnull())\n"
   ]
  },
  {
   "cell_type": "markdown",
   "metadata": {},
   "source": [
    "# Countplot\n"
   ]
  },
  {
   "cell_type": "code",
   "execution_count": null,
   "metadata": {},
   "outputs": [],
   "source": [
    "sn.countplot(data=dataframe, y='FECHA_DEF')\n"
   ]
  },
  {
   "cell_type": "markdown",
   "metadata": {},
   "source": [
    "# Describe 'FECHA_DEF\n"
   ]
  },
  {
   "cell_type": "code",
   "execution_count": null,
   "metadata": {},
   "outputs": [],
   "source": [
    "dataframe['FECHA_DEF'].describe()\n",
    "df = pd.read_csv('static/csv/train.csv')\n",
    "df['def'] = df[['FECHA_DEF']].apply(lambda row: 'FECHA_DEF' != '9999-99-99'), axis=1)\n",
    "\n",
    "\n",
    "df = pd.read_csv('static/csv/train.csv')\n",
    "df['def'] = df[['FECHA_DEF']].apply(lambda row: 'FECHA_DEF' != '9999-99-99', axis=1)\n",
    "\n",
    "\n"
   ]
  },
  {
   "cell_type": "markdown",
   "metadata": {},
   "source": [
    "# Histogram de def\n"
   ]
  },
  {
   "cell_type": "code",
   "execution_count": null,
   "metadata": {},
   "outputs": [],
   "source": [
    "sn.distplot(dataframe[def])\n"
   ]
  },
  {
   "cell_type": "markdown",
   "metadata": {},
   "source": [
    "# Countplot\n"
   ]
  },
  {
   "cell_type": "code",
   "execution_count": null,
   "metadata": {},
   "outputs": [],
   "source": [
    "sn.countplot(data=dataframe, y='def')\n"
   ]
  },
  {
   "cell_type": "markdown",
   "metadata": {},
   "source": [
    "# Describe 'def\n"
   ]
  },
  {
   "cell_type": "code",
   "execution_count": null,
   "metadata": {},
   "outputs": [],
   "source": [
    "dataframe['def'].describe()\n"
   ]
  },
  {
   "cell_type": "markdown",
   "metadata": {},
   "source": [
    "# Drop\n"
   ]
  },
  {
   "cell_type": "code",
   "execution_count": null,
   "metadata": {},
   "outputs": [],
   "source": [
    "dataframe.drop(['def'],axis=1,inplace=True)\n",
    "df = pd.read_csv('static/csv/train.csv')\n",
    "def function(row):\n",
    "\n",
    "    result = 0\n",
    "\n",
    "    if row == '9999-99-99':\n",
    "\n",
    "\tresult = 0\n",
    "\n",
    "    else:\n",
    "\n",
    "\tresult = 1\n",
    "\n",
    "    return result\n",
    "\n",
    "\n",
    "\n",
    "df['def'].apply(function,axis=1)\n",
    "df = pd.read_csv('static/csv/train.csv')\n",
    "def function(row):\n",
    "\n",
    "    result = 0\n",
    "\n",
    "    if row == '9999-99-99':\n",
    "\n",
    "        result = 0\n",
    "\n",
    "    else:\n",
    "\n",
    "        result = 1\n",
    "\n",
    "    return result\n",
    "\n",
    "\n",
    "\n",
    "df['def'].apply(function,axis=1)\n",
    "df = pd.read_csv('static/csv/train.csv')\n",
    "def function(row):\n",
    "\n",
    "    result = 0\n",
    "\n",
    "    if row == '9999-99-99':\n",
    "\n",
    "        result = 0\n",
    "\n",
    "    else:\n",
    "\n",
    "        result = 1\n",
    "\n",
    "    return result\n",
    "\n",
    "\n",
    "\n",
    "df['def']= function\n"
   ]
  },
  {
   "cell_type": "markdown",
   "metadata": {},
   "source": [
    "# Countplot\n"
   ]
  },
  {
   "cell_type": "code",
   "execution_count": null,
   "metadata": {},
   "outputs": [],
   "source": [
    "sn.countplot(data=dataframe, y='def')\n"
   ]
  },
  {
   "cell_type": "markdown",
   "metadata": {},
   "source": [
    "# Drop\n"
   ]
  },
  {
   "cell_type": "code",
   "execution_count": null,
   "metadata": {},
   "outputs": [],
   "source": [
    "dataframe.drop(['def'],axis=1,inplace=True)\n",
    "df = pd.read_csv('static/csv/train.csv')\n",
    "def function(row):\n",
    "\n",
    "    result = 0\n",
    "\n",
    "    if row == '9999-99-99':\n",
    "\n",
    "        result = 0\n",
    "\n",
    "    else:\n",
    "\n",
    "        result = 1\n",
    "\n",
    "    return result\n",
    "\n",
    "\n",
    "\n",
    "df['def']= function()\n",
    "df = pd.read_csv('static/csv/train.csv')\n",
    "def function(row):\n",
    "\n",
    "    result = 0\n",
    "\n",
    "    if row == '9999-99-99':\n",
    "\n",
    "        result = 0\n",
    "\n",
    "    else:\n",
    "\n",
    "        result = 1\n",
    "\n",
    "    return result\n",
    "\n",
    "\n",
    "\n",
    "df['def']= function(df['FECHA_DEF'])\n",
    "df = pd.read_csv('static/csv/train.csv')\n",
    "def function(row):\n",
    "\n",
    "    result = 0\n",
    "\n",
    "    if row == '9999-99-99':\n",
    "\n",
    "        result = 0\n",
    "\n",
    "    else:\n",
    "\n",
    "        result = 1\n",
    "\n",
    "    return result\n",
    "\n",
    "\n",
    "\n",
    "df['def']= function(df['FECHA_DEF'],axis=1)\n",
    "df = pd.read_csv('static/csv/train.csv')\n",
    "def function(row):\n",
    "\n",
    "    result = 0\n",
    "\n",
    "    if row == '9999-99-99':\n",
    "\n",
    "        result = 0\n",
    "\n",
    "    else:\n",
    "\n",
    "        result = 1\n",
    "\n",
    "    return result\n",
    "\n",
    "\n",
    "\n",
    "df['def']= function(df['FECHA_DEF'])\n",
    "df = pd.read_csv('static/csv/train.csv')\n",
    "def function(row):\n",
    "\n",
    "    result = 0\n",
    "\n",
    "    if row == '9999-99-99':\n",
    "\n",
    "        result = 0\n",
    "\n",
    "    else:\n",
    "\n",
    "        result = 1\n",
    "\n",
    "    return result\n",
    "\n",
    "\n",
    "\n",
    "df['def']= df['FECHA_DEF'].apply(funcion,axis=1)\n",
    "df = pd.read_csv('static/csv/train.csv')\n",
    "def function(row):\n",
    "\n",
    "    result = 0\n",
    "\n",
    "    if row == '9999-99-99':\n",
    "\n",
    "        result = 0\n",
    "\n",
    "    else:\n",
    "\n",
    "        result = 1\n",
    "\n",
    "    return result\n",
    "\n",
    "\n",
    "\n",
    "df['def']= df['FECHA_DEF'].apply(function,axis=1)\n",
    "df = pd.read_csv('static/csv/train.csv')\n",
    "def function(row):\n",
    "\n",
    "    result = 0\n",
    "\n",
    "    if row == '9999-99-99':\n",
    "\n",
    "        result = 0\n",
    "\n",
    "    else:\n",
    "\n",
    "        result = 1\n",
    "\n",
    "    return result\n",
    "\n",
    "\n",
    "\n",
    "df['def']= df['FECHA_DEF'].apply(function)\n"
   ]
  },
  {
   "cell_type": "markdown",
   "metadata": {},
   "source": [
    "# Countplot\n"
   ]
  },
  {
   "cell_type": "code",
   "execution_count": null,
   "metadata": {},
   "outputs": [],
   "source": [
    "sn.countplot(data=dataframe, y='def')\n"
   ]
  },
  {
   "cell_type": "markdown",
   "metadata": {},
   "source": [
    "# Describe 'def\n"
   ]
  },
  {
   "cell_type": "code",
   "execution_count": null,
   "metadata": {},
   "outputs": [],
   "source": [
    "dataframe['def'].describe()\n"
   ]
  },
  {
   "cell_type": "markdown",
   "metadata": {},
   "source": [
    "# Countplot\n"
   ]
  },
  {
   "cell_type": "code",
   "execution_count": null,
   "metadata": {},
   "outputs": [],
   "source": [
    "sn.countplot(data=dataframe, y='def')\n",
    "df = pd.read_csv('static/csv/train.csv')\n",
    "def function(var1, var2):\n",
    "\n",
    "    if var1 > var2:\n",
    "\n",
    "        return = 0\n",
    "\n",
    "    else:\n",
    "\n",
    "        rerurn = 1\n",
    "\n",
    "\n",
    "\n",
    "df['new_col']= df[['FECHA_DEF','FECHA_INGRESO]].apply(function)\n",
    "df = pd.read_csv('static/csv/train.csv')\n",
    "def function(var1, var2):\n",
    "\n",
    "    if var1 > var2:\n",
    "\n",
    "        return 0\n",
    "\n",
    "    else:\n",
    "\n",
    "        rerurn 1\n",
    "\n",
    "\n",
    "\n",
    "df['new_col']= df[['FECHA_DEF','FECHA_INGRESO]].apply(function)\n",
    "df = pd.read_csv('static/csv/train.csv')\n",
    "def function(var1, var2):\n",
    "\n",
    "    if var1 > var2:\n",
    "\n",
    "        return 0\n",
    "\n",
    "    else:\n",
    "\n",
    "        return 1\n",
    "\n",
    "\n",
    "\n",
    "df['new_col']= df[['FECHA_DEF','FECHA_INGRESO]].apply(function)\n",
    "df = pd.read_csv('static/csv/train.csv')\n",
    "def function(var1, var2):\n",
    "\n",
    "    if var1 > var2:\n",
    "\n",
    "        return 0\n",
    "\n",
    "    else:\n",
    "\n",
    "        return 1\n",
    "\n",
    "\n",
    "\n",
    "df['new_col']= df[['FECHA_DEF','FECHA_INGRESO']].apply(function)\n",
    "df = pd.read_csv('static/csv/train.csv')\n",
    "def function(var1, var2):\n",
    "\n",
    "    if var1 > var2:\n",
    "\n",
    "        return 0\n",
    "\n",
    "    else:\n",
    "\n",
    "        return 1\n",
    "\n",
    "\n",
    "\n",
    "df['new_col'].apply(function(df['FECHA_DEF'],df['FECHA_INGRESO'])\n",
    "df = pd.read_csv('static/csv/train.csv')\n",
    "def function(var1, var2):\n",
    "\n",
    "    if var1 > var2:\n",
    "\n",
    "        return 0\n",
    "\n",
    "    else:\n",
    "\n",
    "        return 1\n",
    "\n",
    "\n",
    "\n",
    "df['new_col'].apply(function(df['FECHA_DEF'],df['FECHA_INGRESO']))\n",
    "df = pd.read_csv('static/csv/train.csv')\n",
    "def function(var1, var2):\n",
    "\n",
    "    if var1 > var2:\n",
    "\n",
    "        return 0\n",
    "\n",
    "    else:\n",
    "\n",
    "        return 1\n",
    "\n",
    "\n",
    "\n",
    "df['new_col'] = df.apply(function(df['FECHA_DEF'],df['FECHA_INGRESO']))\n",
    "df = pd.read_csv('static/csv/train.csv')\n",
    "def function(var1, var2):\n",
    "\n",
    "    if var1 > var2:\n",
    "\n",
    "        return 0\n",
    "\n",
    "    else:\n",
    "\n",
    "        return 1\n",
    "\n",
    "\n",
    "\n",
    "df['new_col'] = df[['FECHA_DEF','FECHA_INGRESO]].apply(function(df['FECHA_DEF'],df['FECHA_INGRESO']))\n",
    "df = pd.read_csv('static/csv/train.csv')\n",
    "def function(var1, var2):\n",
    "\n",
    "    if var1 > var2:\n",
    "\n",
    "        return 0\n",
    "\n",
    "    else:\n",
    "\n",
    "        return 1\n",
    "\n",
    "\n",
    "\n",
    "df['new_col'] = df[['FECHA_DEF','FECHA_INGRESO]].apply(function(var1=df['FECHA_DEF'],var2=df['FECHA_INGRESO']))\n",
    "df = pd.read_csv('static/csv/train.csv')\n",
    "def function(var1, var2):\n",
    "\n",
    "    if var1 > var2:\n",
    "\n",
    "        return 0\n",
    "\n",
    "    else:\n",
    "\n",
    "        return 1\n",
    "\n",
    "\n",
    "\n",
    "df['new_col'] = function(var1=df['FECHA_DEF'],var2=df['FECHA_INGRESO'])\n",
    "df = pd.read_csv('static/csv/train.csv')\n",
    "def function(var1, var2):\n",
    "\n",
    "    if var1 > var2:\n",
    "\n",
    "        return 0\n",
    "\n",
    "    else:\n",
    "\n",
    "        return 1\n",
    "\n",
    "\n",
    "\n",
    "df['new_col'] = function(df['FECHA_DEF'],df['FECHA_INGRESO'])\n",
    "df = pd.read_csv('static/csv/train.csv')\n",
    "def function(var1, var2):\n",
    "\n",
    "    if var1 > var2:\n",
    "\n",
    "        return 0\n",
    "\n",
    "    else:\n",
    "\n",
    "        return 1\n",
    "\n",
    "\n",
    "\n",
    "df['new_col']= df[['FECHA_DEF','FECHA_INGRESO]].apply(function)\n",
    "df = pd.read_csv('static/csv/train.csv')\n",
    "def function(var1, var2):\n",
    "\n",
    "    if var1 > var2:\n",
    "\n",
    "        return 0\n",
    "\n",
    "    else:\n",
    "\n",
    "        return 1\n",
    "\n",
    "\n",
    "\n",
    "df['new_col']= df[['FECHA_DEF','FECHA_INGRESO']].apply(function)\n",
    "df = pd.read_csv('static/csv/train.csv')\n",
    "def function(var1, var2):\n",
    "\n",
    "    if var1 > var2:\n",
    "\n",
    "        return 0\n",
    "\n",
    "    else:\n",
    "\n",
    "        return 1\n",
    "\n",
    "\n",
    "\n",
    "df['new_col']= df[['FECHA_DEF','FECHA_INGRESO']].apply(function(df.FECHA_DEF,df.FECHA_INGRESO))\n",
    "df = pd.read_csv('static/csv/train.csv')\n",
    "def function(var1, var2):\n",
    "\n",
    "    if var1 > var2:\n",
    "\n",
    "        return 0\n",
    "\n",
    "    else:\n",
    "\n",
    "        return 1\n",
    "\n",
    "\n",
    "\n",
    "df['new_col']= df[['FECHA_DEF','FECHA_INGRESO']].apply(function(df.FECHA_DEF,df.FECHA_INGRESO,axis=1))\n",
    "df = pd.read_csv('static/csv/train.csv')\n",
    "def function(var1, var2):\n",
    "\n",
    "    if var1 > var2:\n",
    "\n",
    "        return 0\n",
    "\n",
    "    else:\n",
    "\n",
    "        return 1\n",
    "\n",
    "\n",
    "\n",
    "df['new_col']= df[['FECHA_DEF','FECHA_INGRESO']].apply(function(df.FECHA_DEF,df.FECHA_INGRESO),axis=1)\n",
    "df = pd.read_csv('static/csv/train.csv')\n",
    "def function(var1, var2):\n",
    "\n",
    "    print(var1,var2)\n",
    "\n",
    "    if var1 > var2:\n",
    "\n",
    "        return 0\n",
    "\n",
    "    else:\n",
    "\n",
    "        return 1\n",
    "\n",
    "\n",
    "\n",
    "df['new_col']= df[['FECHA_DEF','FECHA_INGRESO']].apply(function(df.FECHA_DEF,df.FECHA_INGRESO),axis=1)\n",
    "df = pd.read_csv('static/csv/train.csv')\n",
    "def function(var1):\n",
    "\n",
    "    if var1 == '9999-99-99':\n",
    "\n",
    "        return 0\n",
    "\n",
    "    else:\n",
    "\n",
    "        return 1\n",
    "\n",
    "\n",
    "\n",
    "df['new_col']= df[['FECHA_DEF']].apply(function)\n",
    "df = pd.read_csv('static/csv/train.csv')\n",
    "def function(var1):\n",
    "\n",
    "    if var1 == '9999-99-99':\n",
    "\n",
    "        return 0\n",
    "\n",
    "    else:\n",
    "\n",
    "        return 1\n",
    "\n",
    "\n",
    "\n",
    "df['new_col']= df[['FECHA_DEF']].apply(function,axis=1)\n",
    "df = pd.read_csv('static/csv/train.csv')\n",
    "def function(var1):\n",
    "\n",
    "    print(var1)\n",
    "\n",
    "    if var1 == '9999-99-99':\n",
    "\n",
    "        return 0\n",
    "\n",
    "    else:\n",
    "\n",
    "        return 1\n",
    "\n",
    "\n",
    "\n",
    "df['new_col']= df['FECHA_DEF'].apply(function,axis=1)\n",
    "df = pd.read_csv('static/csv/train.csv')\n",
    "def function(var1):\n",
    "\n",
    "    print(var1)\n",
    "\n",
    "    if var1 == '9999-99-99':\n",
    "\n",
    "        return 0\n",
    "\n",
    "    else:\n",
    "\n",
    "        return 1\n",
    "\n",
    "\n",
    "\n",
    "df['new_col']= df['FECHA_DEF'].apply(function)\n",
    "df = pd.read_csv('static/csv/train.csv')\n",
    "def function(var1):\n",
    "\n",
    "    if var1 == '9999-99-99':\n",
    "\n",
    "        return 0\n",
    "\n",
    "    else:\n",
    "\n",
    "        return 1\n",
    "\n",
    "\n",
    "\n",
    "df['new_col']= df[['FECHA_DEF']].apply(function,axis=1)\n",
    "df = pd.read_csv('static/csv/train.csv')\n",
    "def function(var1):\n",
    "\n",
    "    if var1 == '9999-99-99':\n",
    "\n",
    "        return 0\n",
    "\n",
    "    else:\n",
    "\n",
    "        return 1\n",
    "\n",
    "\n",
    "\n",
    "df['new_col']= df['FECHA_DEF'].apply(function)\n"
   ]
  },
  {
   "cell_type": "markdown",
   "metadata": {},
   "source": [
    "# Drop\n"
   ]
  },
  {
   "cell_type": "code",
   "execution_count": null,
   "metadata": {},
   "outputs": [],
   "source": [
    "dataframe.drop(['new_col'],axis=1,inplace=True)\n"
   ]
  },
  {
   "cell_type": "markdown",
   "metadata": {},
   "source": [
    "# Drop\n"
   ]
  },
  {
   "cell_type": "code",
   "execution_count": null,
   "metadata": {},
   "outputs": [],
   "source": [
    "dataframe.drop(['def'],axis=1,inplace=True)\n",
    "df = pd.read_csv('static/csv/train.csv')\n",
    "def function(var1, var2):\n",
    "\n",
    "    print(var1,var2)\n",
    "\n",
    "    if var1 > var2:\n",
    "\n",
    "        return 0\n",
    "\n",
    "    else:\n",
    "\n",
    "        return 1\n",
    "\n",
    "\n",
    "\n",
    "df['new_col']= df[['FECHA_DEF','FECHA_INGRESO']].apply(function(df[['FECHA_DEF','FECHA_INGRESO']]))\n",
    "df = pd.read_csv('static/csv/train.csv')\n",
    "def function(var1, var2):\n",
    "\n",
    "    print(var1,var2)\n",
    "\n",
    "    if var1 > var2:\n",
    "\n",
    "        return 0\n",
    "\n",
    "    else:\n",
    "\n",
    "        return 1\n",
    "\n",
    "\n",
    "\n",
    "df['new_col']= df[['FECHA_DEF','FECHA_INGRESO']].apply(function(df['FECHA_DEF',df['FECHA_INGRESO']))\n",
    "df = pd.read_csv('static/csv/train.csv')\n",
    "def function(var1, var2):\n",
    "\n",
    "    print(var1,var2)\n",
    "\n",
    "    if var1 > var2:\n",
    "\n",
    "        return 0\n",
    "\n",
    "    else:\n",
    "\n",
    "        return 1\n",
    "\n",
    "\n",
    "\n",
    "df['new_col']= df[['FECHA_DEF','FECHA_INGRESO']].apply(function(df['FECHA_DEF'],df['FECHA_INGRESO']))\n",
    "df = pd.read_csv('static/csv/train.csv')\n",
    "def function(var1, var2):\n",
    "\n",
    "    print(var1,var2)\n",
    "\n",
    "    if var1 > var2:\n",
    "\n",
    "        return 0\n",
    "\n",
    "    else:\n",
    "\n",
    "        return 1\n",
    "\n",
    "\n",
    "\n",
    "df['new_col']= function(df['FECHA_DEF'],df['FECHA_INGRESO'])\n",
    "df = pd.read_csv('static/csv/train.csv')\n",
    "def function(var1, var2):\n",
    "\n",
    "    print(var1,var2)\n",
    "\n",
    "    if var1 > var2:\n",
    "\n",
    "        return 0\n",
    "\n",
    "    else:\n",
    "\n",
    "        return 1\n",
    "\n",
    "\n",
    "\n",
    "df['new_col'] = df.apply(lambda x: function(x['FECHA_DEF'],x['FECHA_INGRESO']), axis=1)\n",
    "\n",
    "\n"
   ]
  }
 ],
 "metadata": {},
 "nbformat": 4,
 "nbformat_minor": 4
}
